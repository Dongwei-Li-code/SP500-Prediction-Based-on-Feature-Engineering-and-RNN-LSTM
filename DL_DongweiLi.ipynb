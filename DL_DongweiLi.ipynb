{
  "cells": [
    {
      "cell_type": "markdown",
      "metadata": {},
      "source": [
        "# SP500 Prediction Based on Feature Engineering and RNN(LSTM)"
      ]
    },
    {
      "cell_type": "markdown",
      "metadata": {
        "id": "24ZpiDdLSI2v"
      },
      "source": [
        "## Feature Engineering"
      ]
    },
    {
      "cell_type": "markdown",
      "metadata": {
        "id": "5ME79KRZSLdL"
      },
      "source": [
        "\n",
        "*   This project is the development of a notebook (code + explanation) that successfully engineers 12 unique types of features, **three** for each type of feature engineering: **transforming**, **interacting**, **mapping**, and **extracting**.\n",
        "* The second part of this project is the development of a **deep learning classification** model to predict the direction of the S&P500 for the dates **2018-01-01—2018-07-12** (test set).\n",
        "\n"
      ]
    },
    {
      "cell_type": "code",
      "execution_count": 1,
      "metadata": {
        "id": "KK3ah2-KR7Mc"
      },
      "outputs": [],
      "source": [
        "import pandas as pd\n",
        "import numpy as np\n",
        "import matplotlib.pyplot as plt\n",
        "import matplotlib.patches as mpatches\n",
        "import talib\n",
        "import random\n",
        "import seaborn as sns"
      ]
    },
    {
      "cell_type": "markdown",
      "metadata": {},
      "source": [
        "Use pytorch to construct nn model because its code is more reusable."
      ]
    },
    {
      "cell_type": "code",
      "execution_count": 2,
      "metadata": {},
      "outputs": [],
      "source": [
        "import torch\n",
        "import torch.nn as nn\n",
        "import torch.optim as optim\n",
        "from torch.utils.data import Dataset, DataLoader"
      ]
    },
    {
      "cell_type": "markdown",
      "metadata": {},
      "source": [
        "Set random seed to get the same result."
      ]
    },
    {
      "cell_type": "code",
      "execution_count": 3,
      "metadata": {},
      "outputs": [],
      "source": [
        "def set_seed(seed_value=42):\n",
        "    \"\"\"set the random seed\"\"\"\n",
        "    random.seed(seed_value)\n",
        "    np.random.seed(seed_value)\n",
        "    torch.manual_seed(seed_value)\n",
        "    if torch.cuda.is_available():\n",
        "        torch.cuda.manual_seed(seed_value)\n",
        "        torch.cuda.manual_seed_all(seed_value)\n",
        "        torch.backends.cudnn.deterministic = True\n",
        "        torch.backends.cudnn.benchmark = False\n",
        "\n",
        "set_seed()"
      ]
    },
    {
      "cell_type": "markdown",
      "metadata": {
        "id": "y8DfulTBSAXT"
      },
      "source": [
        "Preparing the Data"
      ]
    },
    {
      "cell_type": "code",
      "execution_count": 4,
      "metadata": {
        "colab": {
          "base_uri": "https://localhost:8080/",
          "height": 257
        },
        "id": "F8Rf5rSWR-O4",
        "outputId": "d044bc4c-c428-48a8-86a2-59a71865f8da"
      },
      "outputs": [
        {
          "data": {
            "text/html": [
              "<div>\n",
              "<style scoped>\n",
              "    .dataframe tbody tr th:only-of-type {\n",
              "        vertical-align: middle;\n",
              "    }\n",
              "\n",
              "    .dataframe tbody tr th {\n",
              "        vertical-align: top;\n",
              "    }\n",
              "\n",
              "    .dataframe thead th {\n",
              "        text-align: right;\n",
              "    }\n",
              "</style>\n",
              "<table border=\"1\" class=\"dataframe\">\n",
              "  <thead>\n",
              "    <tr style=\"text-align: right;\">\n",
              "      <th></th>\n",
              "      <th>FTSE</th>\n",
              "      <th>EuroStoxx50</th>\n",
              "      <th>SP500</th>\n",
              "      <th>Gold</th>\n",
              "      <th>French-2Y</th>\n",
              "      <th>French-5Y</th>\n",
              "      <th>French-10Y</th>\n",
              "      <th>French-30Y</th>\n",
              "      <th>US-2Y</th>\n",
              "      <th>US-5Y</th>\n",
              "      <th>US-10Y</th>\n",
              "      <th>US-30Y</th>\n",
              "      <th>Russel2000</th>\n",
              "      <th>EuroStox_Small</th>\n",
              "      <th>FTSE_Small</th>\n",
              "      <th>MSCI_EM</th>\n",
              "      <th>CRB</th>\n",
              "      <th>target</th>\n",
              "    </tr>\n",
              "    <tr>\n",
              "      <th>Dates</th>\n",
              "      <th></th>\n",
              "      <th></th>\n",
              "      <th></th>\n",
              "      <th></th>\n",
              "      <th></th>\n",
              "      <th></th>\n",
              "      <th></th>\n",
              "      <th></th>\n",
              "      <th></th>\n",
              "      <th></th>\n",
              "      <th></th>\n",
              "      <th></th>\n",
              "      <th></th>\n",
              "      <th></th>\n",
              "      <th></th>\n",
              "      <th></th>\n",
              "      <th></th>\n",
              "      <th></th>\n",
              "    </tr>\n",
              "  </thead>\n",
              "  <tbody>\n",
              "    <tr>\n",
              "      <th>1989-02-01</th>\n",
              "      <td>2039.7</td>\n",
              "      <td>875.47</td>\n",
              "      <td>297.09</td>\n",
              "      <td>392.50</td>\n",
              "      <td>99.081</td>\n",
              "      <td>99.039</td>\n",
              "      <td>99.572</td>\n",
              "      <td>100.000</td>\n",
              "      <td>100.031</td>\n",
              "      <td>100.345</td>\n",
              "      <td>101.080</td>\n",
              "      <td>101.936</td>\n",
              "      <td>154.38</td>\n",
              "      <td>117.50</td>\n",
              "      <td>1636.57</td>\n",
              "      <td>133.584</td>\n",
              "      <td>286.67</td>\n",
              "      <td>0</td>\n",
              "    </tr>\n",
              "    <tr>\n",
              "      <th>1989-02-02</th>\n",
              "      <td>2043.4</td>\n",
              "      <td>878.08</td>\n",
              "      <td>296.84</td>\n",
              "      <td>392.00</td>\n",
              "      <td>98.898</td>\n",
              "      <td>99.117</td>\n",
              "      <td>99.278</td>\n",
              "      <td>99.692</td>\n",
              "      <td>100.000</td>\n",
              "      <td>100.314</td>\n",
              "      <td>101.017</td>\n",
              "      <td>101.905</td>\n",
              "      <td>154.94</td>\n",
              "      <td>117.69</td>\n",
              "      <td>1642.94</td>\n",
              "      <td>135.052</td>\n",
              "      <td>287.03</td>\n",
              "      <td>1</td>\n",
              "    </tr>\n",
              "    <tr>\n",
              "      <th>1989-02-03</th>\n",
              "      <td>2069.9</td>\n",
              "      <td>884.09</td>\n",
              "      <td>296.97</td>\n",
              "      <td>388.75</td>\n",
              "      <td>98.907</td>\n",
              "      <td>99.002</td>\n",
              "      <td>99.145</td>\n",
              "      <td>99.178</td>\n",
              "      <td>99.812</td>\n",
              "      <td>100.062</td>\n",
              "      <td>100.921</td>\n",
              "      <td>101.718</td>\n",
              "      <td>155.69</td>\n",
              "      <td>118.62</td>\n",
              "      <td>1659.11</td>\n",
              "      <td>137.134</td>\n",
              "      <td>285.63</td>\n",
              "      <td>0</td>\n",
              "    </tr>\n",
              "    <tr>\n",
              "      <th>1989-02-06</th>\n",
              "      <td>2044.3</td>\n",
              "      <td>885.49</td>\n",
              "      <td>296.04</td>\n",
              "      <td>388.00</td>\n",
              "      <td>98.484</td>\n",
              "      <td>98.502</td>\n",
              "      <td>98.510</td>\n",
              "      <td>97.739</td>\n",
              "      <td>99.812</td>\n",
              "      <td>100.062</td>\n",
              "      <td>100.794</td>\n",
              "      <td>101.468</td>\n",
              "      <td>155.58</td>\n",
              "      <td>118.89</td>\n",
              "      <td>1656.86</td>\n",
              "      <td>137.037</td>\n",
              "      <td>284.69</td>\n",
              "      <td>1</td>\n",
              "    </tr>\n",
              "    <tr>\n",
              "      <th>1989-02-07</th>\n",
              "      <td>2072.8</td>\n",
              "      <td>883.82</td>\n",
              "      <td>299.63</td>\n",
              "      <td>392.75</td>\n",
              "      <td>98.438</td>\n",
              "      <td>98.312</td>\n",
              "      <td>98.292</td>\n",
              "      <td>97.688</td>\n",
              "      <td>99.906</td>\n",
              "      <td>100.251</td>\n",
              "      <td>101.144</td>\n",
              "      <td>102.092</td>\n",
              "      <td>156.84</td>\n",
              "      <td>118.28</td>\n",
              "      <td>1662.76</td>\n",
              "      <td>136.914</td>\n",
              "      <td>284.21</td>\n",
              "      <td>0</td>\n",
              "    </tr>\n",
              "  </tbody>\n",
              "</table>\n",
              "</div>"
            ],
            "text/plain": [
              "              FTSE  EuroStoxx50   SP500    Gold  French-2Y  French-5Y  \\\n",
              "Dates                                                                   \n",
              "1989-02-01  2039.7       875.47  297.09  392.50     99.081     99.039   \n",
              "1989-02-02  2043.4       878.08  296.84  392.00     98.898     99.117   \n",
              "1989-02-03  2069.9       884.09  296.97  388.75     98.907     99.002   \n",
              "1989-02-06  2044.3       885.49  296.04  388.00     98.484     98.502   \n",
              "1989-02-07  2072.8       883.82  299.63  392.75     98.438     98.312   \n",
              "\n",
              "            French-10Y  French-30Y    US-2Y    US-5Y   US-10Y   US-30Y  \\\n",
              "Dates                                                                    \n",
              "1989-02-01      99.572     100.000  100.031  100.345  101.080  101.936   \n",
              "1989-02-02      99.278      99.692  100.000  100.314  101.017  101.905   \n",
              "1989-02-03      99.145      99.178   99.812  100.062  100.921  101.718   \n",
              "1989-02-06      98.510      97.739   99.812  100.062  100.794  101.468   \n",
              "1989-02-07      98.292      97.688   99.906  100.251  101.144  102.092   \n",
              "\n",
              "            Russel2000  EuroStox_Small  FTSE_Small  MSCI_EM     CRB  target  \n",
              "Dates                                                                        \n",
              "1989-02-01      154.38          117.50     1636.57  133.584  286.67       0  \n",
              "1989-02-02      154.94          117.69     1642.94  135.052  287.03       1  \n",
              "1989-02-03      155.69          118.62     1659.11  137.134  285.63       0  \n",
              "1989-02-06      155.58          118.89     1656.86  137.037  284.69       1  \n",
              "1989-02-07      156.84          118.28     1662.76  136.914  284.21       0  "
            ]
          },
          "execution_count": 4,
          "metadata": {},
          "output_type": "execute_result"
        }
      ],
      "source": [
        "# preparing our data\n",
        "raw_prices = pd.read_csv(\"https://storage.googleapis.com/sovai-public/random/assetalloc.csv\", sep=';', parse_dates=True, index_col='Dates', dayfirst=True)\n",
        "df = raw_prices.sort_values(by='Dates')\n",
        "df[\"target\"] = df[\"SP500\"].pct_change().shift(-1)\n",
        "df[\"target\"] = np.where(df[\"target\"]>0,1,0)\n",
        "df.head()"
      ]
    },
    {
      "cell_type": "markdown",
      "metadata": {
        "id": "8KjWNbXqfZju"
      },
      "source": [
        "### Train Test Split"
      ]
    },
    {
      "cell_type": "code",
      "execution_count": 5,
      "metadata": {
        "id": "IZjqGkgbfYIb"
      },
      "outputs": [],
      "source": [
        "from sklearn.model_selection import train_test_split\n",
        "y = df.pop(\"target\")\n",
        "X = df.copy()\n",
        "\n",
        "X_train = X[X.index.astype(str)<'2018-01-01']  # extract data before 2018-01-01 to be training set\n",
        "y_train = y[X_train.index]  # extract data before 2018-01-01 to be training set\n",
        "X_test = X[~X.index.isin(X_train.index)]  # extract data after 2018-01-01 to be test set\n",
        "y_test = y[X_test.index]  # extract data after 2018-01-01 to be test set\n",
        "\n",
        "# X_train, X_test, y_train, y_test = train_test_split(X, y, test_size=0.2, shuffle=False)"
      ]
    },
    {
      "cell_type": "markdown",
      "metadata": {},
      "source": [
        "### EDA"
      ]
    },
    {
      "cell_type": "markdown",
      "metadata": {},
      "source": [
        "There are many types of asset in features. Let's analyze the correlation of all features to explore there relationship."
      ]
    },
    {
      "cell_type": "code",
      "execution_count": 6,
      "metadata": {},
      "outputs": [
        {
          "data": {
            "image/png": "[encoded data removed]",
            "text/plain": [
              "<Figure size 640x480 with 2 Axes>"
            ]
          },
          "metadata": {},
          "output_type": "display_data"
        }
      ],
      "source": [
        "sns.heatmap(X_train.corr(), annot=True, cmap='coolwarm')\n",
        "plt.show()"
      ]
    },
    {
      "cell_type": "markdown",
      "metadata": {},
      "source": [
        "It seems that most assets are positively correlated. However, French - 2Y is negatively correlated with other assets. "
      ]
    },
    {
      "cell_type": "markdown",
      "metadata": {
        "id": "8khPX0DTStdP"
      },
      "source": [
        "### Transforming"
      ]
    },
    {
      "cell_type": "markdown",
      "metadata": {
        "id": "y6ZyMnQ__B49"
      },
      "source": [
        "1. Refresh your mind on tranformation methods by going back to the material. I am simply providing 1 example here.\n",
        "1. Don't repeat my logarithmic return calculation, develop your own transformation (there are 1000s of types of transformations).\n",
        "1. In the example I provide, there is also an error that you have to fix. For example, one of the errors below is that you should actually use `np.log1p()`, but there is another one, so watch out!"
      ]
    },
    {
      "cell_type": "markdown",
      "metadata": {},
      "source": [
        "#### Logarithmic return:"
      ]
    },
    {
      "cell_type": "markdown",
      "metadata": {},
      "source": [
        "The error of this example is that the logarithmic return should calculated as log(FTSE_t/FTSE_t-1). In addition, using np.log1p(x) will increase the accuracy of the calculation."
      ]
    },
    {
      "cell_type": "code",
      "execution_count": 7,
      "metadata": {
        "colab": {
          "base_uri": "https://localhost:8080/"
        },
        "id": "4dwunC3GSrK2",
        "outputId": "422174ee-42d6-4a66-dc3f-b54102818804"
      },
      "outputs": [],
      "source": [
        "# Example Transforming (has errors)\n",
        "\n",
        "# Name: Logarithmic return of FTSE\n",
        "# Description: Developing the logarithmic return feature for use within linear models that make normality assumptions.\n",
        "# Error: The logarithmic return should calculated as log(FTSE_t/FTSE_t-1). In addition, using np.log1p(x) will increase the accuracy of the calculation.\n",
        "\n",
        "# df[\"FTSE_log\"] = np.log1p(df['FTSE'] / df['FTSE'].shift(1) - 1)\n",
        "# df[\"FTSE_log\"]\n",
        "\n",
        "def get_FTSE_log_return(df):\n",
        "    df.loc[:,\"FTSE_log\"] = np.log1p(df['FTSE'] / df['FTSE'].shift(1) - 1)  ## use np.log1p to imcrease the accuracy\n",
        "    return df\n",
        "\n",
        "X_train = get_FTSE_log_return(X_train.copy())\n",
        "X_test = get_FTSE_log_return(X_test.copy())"
      ]
    },
    {
      "cell_type": "markdown",
      "metadata": {},
      "source": [
        "#### RSI (Relative Strength Index):\n",
        "The Relative Strength Index is a popular indicator used to forecast the future trend of the market. This indicator measures the relative strength of buying and selling forces in the market. Therefore, it should be an important feature for explaining the moving direction of the price."
      ]
    },
    {
      "cell_type": "code",
      "execution_count": 8,
      "metadata": {
        "id": "ghn81UtvPYmF"
      },
      "outputs": [],
      "source": [
        "## Transforming 1 (Add code below)\n",
        "\n",
        "# Name: RSI\n",
        "# Description: see above\n",
        "\n",
        "from talib import RSI\n",
        "\n",
        "def get_SP500_RSI(df,N=20):\n",
        "    df.loc[:,'SP500_RSI'] = RSI(df['SP500'], timeperiod=N)\n",
        "    return df\n",
        "\n",
        "X_train = get_SP500_RSI(X_train.copy(),20)\n",
        "X_test = get_SP500_RSI(X_test.copy(),20)"
      ]
    },
    {
      "cell_type": "markdown",
      "metadata": {},
      "source": [
        "#### MACD (Moving Average Convergence Divergence)\n",
        "MACD is a popular indicator to measure the trend in the stock market. MACD consists of three components.\n",
        "1. MACD Line (Fast Line): The MACD line is typically calculated as the difference between the 12-day Exponential Moving Average (EMA) and the 26-day EMA.\n",
        "2. Signal Line (Slow Line): The signal line is typically calculated as the 9-day EMA of the MACD line.\n",
        "3. Histogram: The histogram is calculated as the difference between the MACD line and the Signal line.  \n",
        "\n",
        "In practice, a crossover of the MACD line above the signal line is often seen as a buy signal, while a crossover below is viewed as a sell signal. The histogram shows the strength of the trend."
      ]
    },
    {
      "cell_type": "code",
      "execution_count": 9,
      "metadata": {},
      "outputs": [],
      "source": [
        "## Transforming 2 (Add code below)\n",
        "\n",
        "# Name: MACD\n",
        "# Description: see above\n",
        "\n",
        "from talib import MACD\n",
        "\n",
        "def get_FTSE_MACD(df,N=20):\n",
        "    macd, macdsignal, macdhist = MACD(df['FTSE'], fastperiod=12, slowperiod=26, signalperiod=9)\n",
        "    df.loc[:,'FTSE_MACD'] = macd\n",
        "    df.loc[:,'FTSE_MACDsignal'] = macdsignal\n",
        "    df.loc[:,'FTSE_MACDhist'] = macdhist\n",
        "    return df\n",
        "\n",
        "X_train = get_FTSE_MACD(X_train.copy(),20)\n",
        "X_test = get_FTSE_MACD(X_test.copy(),20)"
      ]
    },
    {
      "cell_type": "code",
      "execution_count": 10,
      "metadata": {},
      "outputs": [],
      "source": [
        "## Transforming 3 (Add code below)\n",
        "\n",
        "# Name: MOM (Momentum) of SP500\n",
        "# Description: MOM (Momentum) is an indicator that shows the speed and strength of price changes. \n",
        "#              MOM demonstrates the momentum of price by calculating the difference between the current price and the price from a previous period.\n",
        "\n",
        "from talib import MOM\n",
        "\n",
        "def get_SP500_MOM(df,N=20):\n",
        "    df.loc[:,'SP500_MOM'] = MOM(df['SP500'], timeperiod=N)\n",
        "    return df\n",
        "\n",
        "X_train = get_SP500_MOM(X_train.copy(),20)\n",
        "X_test = get_SP500_MOM(X_test.copy(),20)"
      ]
    },
    {
      "cell_type": "markdown",
      "metadata": {
        "id": "CiyIliYJTJRN"
      },
      "source": [
        "### Interacting"
      ]
    },
    {
      "cell_type": "markdown",
      "metadata": {
        "id": "XWuduQ-m_q7R"
      },
      "source": [
        "There are millions of possible interaction methods, be creative and come up with your own. For this assignment there is no 'right' feature engineering method, you simply develop one, and give it a name and a discreption."
      ]
    },
    {
      "cell_type": "markdown",
      "metadata": {},
      "source": [
        "The error of this example is that gold return should be calculated as the percentage change of gold price."
      ]
    },
    {
      "cell_type": "code",
      "execution_count": 11,
      "metadata": {
        "id": "IN3tnhNUTDK3"
      },
      "outputs": [],
      "source": [
        "# Example Interacting\n",
        "\n",
        "# Name: Ratio of Gold return to 10Y treasury\n",
        "# Desciption: Both gold and treasuries are safe-haven assets and descrepency in their ratio could be a sign of some marco-economic event.\n",
        "# error: Gold return should be calculated as the percentage change of gold price.\n",
        "\n",
        "def gold_to_yield(df):\n",
        "    teny_returns = df[\"US-10Y\"].pct_change()\n",
        "    gold_returns = df[\"Gold\"].pct_change()\n",
        "    df[\"gold_r__div__teny_r\"] = gold_returns/teny_returns\n",
        "    return df\n",
        "\n",
        "X_train = gold_to_yield(X_train)\n",
        "X_test = gold_to_yield(X_test)"
      ]
    },
    {
      "cell_type": "code",
      "execution_count": 12,
      "metadata": {
        "id": "hwB5gEVjT1dz"
      },
      "outputs": [],
      "source": [
        "## Interacting 1 (Add code below)\n",
        "\n",
        "# Name: Ratio of 2Y US treasury return to 30Y US treasury\n",
        "# Desciption: 2Y treasury and 30Y treasury are risk free asset with different maturity. Their ratio could capture some features of yield curve.\n",
        "\n",
        "def Short_to_long_US_yield(df):\n",
        "    long_returns = df[\"US-30Y\"].pct_change()\n",
        "    short_returns = df[\"US-2Y\"].pct_change()\n",
        "    df[\"twoy_r__div__teny_r\"] = short_returns/long_returns\n",
        "    return df\n",
        "\n",
        "X_train = Short_to_long_US_yield(X_train)\n",
        "X_test = Short_to_long_US_yield(X_test)"
      ]
    },
    {
      "cell_type": "code",
      "execution_count": 13,
      "metadata": {
        "id": "W-TYsjyUTuF2"
      },
      "outputs": [],
      "source": [
        "## Interacting 2 (Add code below)\n",
        "\n",
        "# Name: Ratio of 10Y French treasury return to 10Y US treasury\n",
        "# Desciption: 10Y French treasury and 10Y US treasury are risk free asset with different currency. Their ratio could capture features of different currency.\n",
        "\n",
        "def French_to_US_yield(df):\n",
        "    US_returns = df[\"US-10Y\"].pct_change()\n",
        "    French_returns = df[\"French-10Y\"].pct_change()\n",
        "    df[\"French_r__div__US_r\"] = French_returns/US_returns\n",
        "    return df\n",
        "\n",
        "X_train = French_to_US_yield(X_train)\n",
        "X_test = French_to_US_yield(X_test)"
      ]
    },
    {
      "cell_type": "code",
      "execution_count": 14,
      "metadata": {
        "id": "7iClfjUDPWu2"
      },
      "outputs": [],
      "source": [
        "## Interacting 3 (Add code below)\n",
        "\n",
        "# Name: Ratio of SP500 return to CRB\n",
        "# Desciption: CRB stands for Commodity Research Bureau, which is an important index reflecting the the global dynamics of commodity prices. \n",
        "#             It takes a variety of commodities into consideration including energy, metals, and agricultural products.\n",
        "#             Therefore, it is an essential indicator measuring the performance of the commodity markets. \n",
        "#             The ratio of SP500 return to CRB is able to capture the difference and relationship between the stock markets and the commodity markets.\n",
        "\n",
        "def SP_to_CRB_yield(df):\n",
        "    CRB_returns = df[\"CRB\"].pct_change()\n",
        "    SP_returns = df[\"SP500\"].pct_change()\n",
        "    df[\"SP_r__div__CRB_r\"] = SP_returns/CRB_returns\n",
        "    return df\n",
        "\n",
        "X_train = SP_to_CRB_yield(X_train)\n",
        "X_test = SP_to_CRB_yield(X_test)"
      ]
    },
    {
      "cell_type": "markdown",
      "metadata": {
        "id": "DwVvQ7NKdy6B"
      },
      "source": [
        "### Mapping"
      ]
    },
    {
      "cell_type": "markdown",
      "metadata": {
        "id": "m4Rc0htlDnrA"
      },
      "source": [
        "This one is slightly harder, you have to identify other  dimensionality reduction methods, there are many more than just PCA. Maybe you can also look at performing the decompositions just on a single asset classes, e.g., US-2Y, US-5Y, US-10Y, US-30Y is a fixed income asset class, but there are a few others in the dataset."
      ]
    },
    {
      "cell_type": "markdown",
      "metadata": {},
      "source": [
        "The error of this example is that some features other than assets returns are fed to PCA. We need to select all the assets and calcualte their returns before we feed them to PCA."
      ]
    },
    {
      "cell_type": "code",
      "execution_count": 15,
      "metadata": {
        "id": "IuR-aeFNd0LR"
      },
      "outputs": [],
      "source": [
        "# Example Mapping\n",
        "\n",
        "# Name: First prinicipal component of all of the assets returns\n",
        "# Description:For stocks the first component resmbles the return of the market, for multiple asset classes it could resemble a 'universal' asset class\n",
        "# Error: Some features other than assets returns are fed to PCA. We need to select all the assets and calcualte their returns before we feed them to PCA.\n",
        "\n",
        "from sklearn.decomposition import PCA\n",
        "from sklearn.preprocessing import StandardScaler\n",
        "\n",
        "def pca_first(X_train, X_test,assets,column_name):\n",
        "    # select all the assets\n",
        "    X_train_assets = X_train.loc[:,assets]\n",
        "    X_test_assets = X_test.loc[:,assets]\n",
        "\n",
        "    # calculate returns of all assets\n",
        "    X_train_returns = X_train_assets.pct_change()\n",
        "    X_test_returns = X_test_assets.pct_change()\n",
        "\n",
        "    X_train_imputed = X_train_returns\n",
        "    X_test_imputed = X_test_returns\n",
        "\n",
        "    # standarize\n",
        "    sc = StandardScaler()\n",
        "    X_train_s = sc.fit_transform(X_train_imputed.fillna(0))\n",
        "    X_test_s = sc.transform(X_test_imputed.fillna(0))\n",
        "\n",
        "    # PCA\n",
        "    pca = PCA(1)\n",
        "    X_train[column_name] = pca.fit_transform(X_train_s)\n",
        "    X_test[column_name] = pca.transform(X_test_s)\n",
        "    return X_train, X_test\n",
        "\n",
        "assets_all = df.columns\n",
        "column_name = 'all_assets_PCA1'\n",
        "X_train, X_test = pca_first(X_train, X_test,assets_all,column_name)"
      ]
    },
    {
      "cell_type": "code",
      "execution_count": 16,
      "metadata": {
        "id": "6XAoLXiajaIO"
      },
      "outputs": [],
      "source": [
        "## Mapping 1 (Add code below)\n",
        "\n",
        "# Name: PCA => First prinicipal component of all of US fixed income asset returns (PCA)\n",
        "# Description: First principal component of US fixed income asset returns reflects the return of all US fixed income asset with different maturities\n",
        "\n",
        "assets_US = df.filter(regex='^US-').columns\n",
        "column_name = 'US_PCA1'\n",
        "X_train, X_test = pca_first(X_train, X_test,assets_US,column_name)"
      ]
    },
    {
      "cell_type": "code",
      "execution_count": 17,
      "metadata": {
        "id": "lUmRlTldjb63"
      },
      "outputs": [],
      "source": [
        "## Mapping 2 (Add code below)\n",
        "\n",
        "# Name: Factor analysis => Latent factors of all of French fixed income asset returns (Factor analysis)\n",
        "# Description: Factor analysis is a type of machine learning technique aiming to describe observable variables using a small number of latent factors. \n",
        "#              By interpreting the shared variation of observable variables through their linear combinations, \n",
        "#              factor analysis provides meaningful explanations of these variables, thereby reducing the number of variables.\n",
        "#              In this case, we will find the latent factor of all French fixed income asset returns to capture the feature of the whole French fixed income market.\n",
        "\n",
        "from sklearn.decomposition import FactorAnalysis\n",
        "\n",
        "def factor_analysis_first(X_train, X_test,assets,column_name):\n",
        "    # select all the assets\n",
        "    X_train_assets = X_train.loc[:,assets]\n",
        "    X_test_assets = X_test.loc[:,assets]\n",
        "\n",
        "    # calculate returns of all assets\n",
        "    X_train_returns = X_train_assets.pct_change()\n",
        "    X_test_returns = X_test_assets.pct_change()\n",
        "\n",
        "    # replace the inf value\n",
        "    X_train_imputed = X_train_returns\n",
        "    X_test_imputed = X_test_returns\n",
        "\n",
        "    # standarize\n",
        "    sc = StandardScaler()\n",
        "    X_train_s = sc.fit_transform(X_train_imputed.fillna(0))\n",
        "    X_test_s = sc.transform(X_test_imputed.fillna(0))\n",
        "\n",
        "    # factor analysis\n",
        "    factor = FactorAnalysis(n_components=1, random_state=0)\n",
        "    X_train[column_name] = factor.fit_transform(X_train_s)\n",
        "    X_test[column_name] = factor.transform(X_test_s)\n",
        "    return X_train, X_test\n",
        "\n",
        "assets_French = df.filter(regex='^French-').columns\n",
        "column_name = 'French_FA1'\n",
        "X_train, X_test = factor_analysis_first(X_train, X_test,assets_all,column_name)"
      ]
    },
    {
      "cell_type": "code",
      "execution_count": 18,
      "metadata": {
        "id": "eh6vU15ePTKm"
      },
      "outputs": [],
      "source": [
        "## Mapping 3 (Add code below)\n",
        "\n",
        "# Name: Factor analysis => Latent factors of all stock index returns (Factor analysis)\n",
        "# Description: In this case, we will find two latent factors of all stock index returns to capture the feature of all stock market.\n",
        "\n",
        "def factor_analysis_two(X_train, X_test,assets,column_name):\n",
        "    # select all the assets\n",
        "    X_train_assets = X_train.loc[:,assets]\n",
        "    X_test_assets = X_test.loc[:,assets]\n",
        "\n",
        "    # calculate returns of all assets\n",
        "    X_train_returns = X_train_assets.pct_change()\n",
        "    X_test_returns = X_test_assets.pct_change()\n",
        "\n",
        "    # replace the inf value\n",
        "    X_train_imputed = X_train_returns\n",
        "    X_test_imputed = X_test_returns\n",
        "\n",
        "    # standarize\n",
        "    sc = StandardScaler()\n",
        "    X_train_s = sc.fit_transform(X_train_imputed.fillna(0))\n",
        "    X_test_s = sc.transform(X_test_imputed.fillna(0))\n",
        "\n",
        "    # factor analysis\n",
        "    factor2 = FactorAnalysis(n_components=2, random_state=0)\n",
        "    X_train[column_name] = factor2.fit_transform(X_train_s)\n",
        "    X_test[column_name] = factor2.transform(X_test_s)\n",
        "    return X_train, X_test\n",
        "\n",
        "assets_stock = ['FTSE', 'EuroStoxx50', 'SP500','Russel2000', 'EuroStox_Small', 'FTSE_Small', 'MSCI_EM']\n",
        "column_name = ['Stock_FA1','Stock_FA2']\n",
        "X_train, X_test = factor_analysis_two(X_train, X_test,assets_stock,column_name)"
      ]
    },
    {
      "cell_type": "markdown",
      "metadata": {
        "id": "KtRBRXeRd_ad"
      },
      "source": [
        "Extracting"
      ]
    },
    {
      "cell_type": "markdown",
      "metadata": {},
      "source": [
        "The error of this example is that the rolling window is too large for the test set and it is annualized in a wrong way."
      ]
    },
    {
      "cell_type": "code",
      "execution_count": 19,
      "metadata": {
        "id": "lHpV2LxIeA9i"
      },
      "outputs": [],
      "source": [
        "# Example Extracting\n",
        "# Name: Annualized volatility in returns\n",
        "# Description: We are developing an annualized volatility measure for all asset returns, which is a good measure of market turbulence\n",
        "# Error: The rolling window is too large for the test set and it is annualized in a wrong way. \n",
        "\n",
        "def vola(df,assets):\n",
        "  volatility = df.loc[:,assets].pct_change().rolling(window=20).std()*np.sqrt(252)\n",
        "  new_names = [(i,i+'_vol') for i in assets]\n",
        "  volatility.rename(columns = dict(new_names), inplace=True)\n",
        "  df = pd.concat((df, volatility), axis=1)\n",
        "  return df\n",
        "\n",
        "assets_all = df.columns\n",
        "X_train = vola(X_train,assets_all); X_test = vola(X_test,assets_all)"
      ]
    },
    {
      "cell_type": "markdown",
      "metadata": {},
      "source": [
        "#### Bollinger Bands (BBANDS):  \n",
        "\n",
        "Bollinger Bands consist of three lines:\n",
        "\n",
        "1. Middle Band: The middle band a Simple Moving Average (SMA) of prices over a certain period. The window is often set to be 20 days. The middle band is able to describe the main trend of the price.\n",
        "\n",
        "2. Upper Band: The upper band is calculated by adding twice the standard deviations to the middle band. The upper band relects the potential upper limit of the price.\n",
        "\n",
        "3. Lower Band: The lowe band is calculated by subtracting twice the standard deviations from the middle band. The lower band relects the potential upper limit of the price.\n",
        "\n",
        "Bollinger Bands are able to describe the reasonable interval of the price by setting upper bands and lower bands. The relationship between the actual price, the upper bands and the lower bands is an important indicator for determining whether the price is at a high or low level. The distance between the upper and lower bands also reflects the volatility of the price."
      ]
    },
    {
      "cell_type": "code",
      "execution_count": 20,
      "metadata": {
        "id": "P165fWF9PNdx"
      },
      "outputs": [],
      "source": [
        "## Extracting 1 (Add code below)\n",
        "\n",
        "# Name: Bollinger Bands of SP500\n",
        "# Description: see above\n",
        "\n",
        "from talib import BBANDS\n",
        "\n",
        "def get_SP500_BBANDS(df,N=20):\n",
        "    high, mid, low = BBANDS(df['SP500'], timeperiod=N)\n",
        "    df.loc[:,'SP500_BBANDS_high'] = high\n",
        "    df.loc[:,'SP500_BBANDS_mid'] = mid\n",
        "    df.loc[:,'SP500_BBANDS_low'] = low\n",
        "    return df\n",
        "\n",
        "X_train = get_SP500_BBANDS(X_train.copy(),20)\n",
        "X_test = get_SP500_BBANDS(X_test.copy(),20)"
      ]
    },
    {
      "cell_type": "code",
      "execution_count": 21,
      "metadata": {
        "id": "GODtIouyPQK-"
      },
      "outputs": [],
      "source": [
        "## Extracting 2 (Add code below)\n",
        "\n",
        "# Name: The rolling ratio of the range of price to the mean of price\n",
        "# Description: This indicator calculates the difference between the highest and lowest prices in a rolling window and then is adjusted by the rolling mean, \n",
        "#              which measures the magnitude of price fluctuations over a past period.\n",
        "\n",
        "def get_FTSE_Rolling_Range(df,N=20):\n",
        "    price_highest = df['FTSE'].rolling(window=N).max()\n",
        "    price_lowest = df['FTSE'].rolling(window=N).min()\n",
        "    df.loc[:,'FTSE_Rolling_Range'] = (price_highest - price_lowest) / df['FTSE'].rolling(window=N).mean()\n",
        "    return df\n",
        "\n",
        "X_train = get_FTSE_Rolling_Range(X_train.copy(),20)\n",
        "X_test = get_FTSE_Rolling_Range(X_test.copy(),20)"
      ]
    },
    {
      "cell_type": "code",
      "execution_count": 22,
      "metadata": {
        "id": "Fi2MaoAcPRFH"
      },
      "outputs": [],
      "source": [
        "## Extracting 3 (Add code below)\n",
        "\n",
        "# Name: Rolling Max Drawdown Percentage\n",
        "# Description: This indicator calculate the Max Drawdown over rolling in a rolling window and then is adjusted by the rolling mean,\n",
        "#              which shows the the risk of price decline over a past period.\n",
        "\n",
        "def get_SP500_Rolling_MDP(df,N=20):\n",
        "    df.loc[:,'SP500_Rolling_MDP'] = df['SP500'].rolling(window=N).apply(lambda x: np.max(x.cummax()-x)/np.mean(x))\n",
        "    return df\n",
        "\n",
        "X_train = get_SP500_Rolling_MDP(X_train.copy(),20)\n",
        "X_test = get_SP500_Rolling_MDP(X_test.copy(),20)"
      ]
    },
    {
      "cell_type": "markdown",
      "metadata": {
        "id": "WhDvqiPnHccB"
      },
      "source": [
        "## Deep Learning Binary Classification"
      ]
    },
    {
      "cell_type": "markdown",
      "metadata": {
        "id": "JoNmgbgWHjGs"
      },
      "source": [
        "* For the deep learning model you can perform new data preprocessing methods and new feature engineering that are better suited to neural networks. You can also use all or some of the features you developed above (most features work in deep learning models as long as they are normalized).\n",
        "* Make sure that you switch your GPU on, you have access to it on Colab. The training stage also takes long, you might want to use a smaller amount of data, or fewer epochs at first to speed up your development process.\n",
        "* You can report two metrics the ROC(AUC) and the Accuracy against the test set.\n",
        "* Also remember to set the random seed (random state) so that when others run your software, they get similar results (the results doesn't have to be exactely the same).\n",
        "* You can also choose other type of deep learning archetecture, e.g., RNN, GRU, CNN."
      ]
    },
    {
      "cell_type": "markdown",
      "metadata": {},
      "source": [
        "Choose to use Pytorch because Pytorch code is more reusable."
      ]
    },
    {
      "cell_type": "markdown",
      "metadata": {},
      "source": [
        "Environment Settings"
      ]
    },
    {
      "cell_type": "code",
      "execution_count": 24,
      "metadata": {},
      "outputs": [
        {
          "name": "stdout",
          "output_type": "stream",
          "text": [
            "Using device: cuda\n"
          ]
        }
      ],
      "source": [
        "device = torch.device(\"cuda\" if torch.cuda.is_available() else \"cpu\")\n",
        "print(f\"Using device: {device}\")"
      ]
    },
    {
      "cell_type": "code",
      "execution_count": 25,
      "metadata": {},
      "outputs": [
        {
          "name": "stdout",
          "output_type": "stream",
          "text": [
            "CUDA Version: 11.8\n",
            "PyTorch Version: 2.1.0\n",
            "Is the Graphics Card Available: Available\n",
            "Number of Graphics Cards: 1\n",
            "Current Graphics Card Model: NVIDIA GeForce RTX 4060 Laptop GPU\n",
            "Current Graphics Card's CUDA Compute Capability: (8, 9)\n",
            "Total Video Memory of Current Graphics Card: 7.99560546875 GB\n",
            "Does It Support TensorCore: Supported\n",
            "Current Graphics Card's Video Memory Usage: 0.0 %\n"
          ]
        }
      ],
      "source": [
        "print('CUDA Version:',torch.version.cuda)\n",
        "print('PyTorch Version:',torch.__version__)\n",
        "print('Is the Graphics Card Available:','Available' if(torch.cuda.is_available()) else 'Not Available')\n",
        "print('Number of Graphics Cards:',torch.cuda.device_count())\n",
        "print('Current Graphics Card Model:',torch.cuda.get_device_name())\n",
        "print('Current Graphics Card\\'s CUDA Compute Capability:',torch.cuda.get_device_capability())\n",
        "print('Total Video Memory of Current Graphics Card:',torch.cuda.get_device_properties(0).total_memory/1024/1024/1024,'GB')\n",
        "print('Does It Support TensorCore:','Supported' if (torch.cuda.get_device_properties(0).major >= 7) else 'Not Supported')\n",
        "print('Current Graphics Card\\'s Video Memory Usage:',torch.cuda.memory_allocated(0)/torch.cuda.get_device_properties(0).total_memory*100,'%')"
      ]
    },
    {
      "cell_type": "markdown",
      "metadata": {},
      "source": [
        "Data loading and preprocessing"
      ]
    },
    {
      "cell_type": "code",
      "execution_count": 26,
      "metadata": {},
      "outputs": [],
      "source": [
        "from sklearn.base import BaseEstimator, TransformerMixin\n",
        "import numpy as np\n",
        "\n",
        "class InfToMinMaxTransformer(BaseEstimator, TransformerMixin):\n",
        "    '''\n",
        "    Replace -inf with min value and inf with max value for each feature, \n",
        "    using rolling calculations for training set and global values for test set to avoid data leakage.\n",
        "    '''\n",
        "    def __init__(self, window_size=10):\n",
        "        self.window_size = window_size\n",
        "        self.global_max_values_ = None\n",
        "        self.global_min_values_ = None\n",
        "\n",
        "    def fit(self, X, y=None):\n",
        "        # Calculate the global max and min values from the training set\n",
        "        self.global_max_values_ = X.replace([np.inf, -np.inf], np.nan).max()\n",
        "        self.global_min_values_ = X.replace([np.inf, -np.inf], np.nan).min()\n",
        "        return self\n",
        "\n",
        "    def transform(self, X, y=None, is_train_data=True):\n",
        "        X_transformed = X.copy()\n",
        "        if is_train_data:\n",
        "            # Use rolling calculations for training data\n",
        "            for col in X_transformed.columns:\n",
        "                col_data = X_transformed[col].replace([np.inf, -np.inf], np.nan)\n",
        "                rolling_max = col_data.rolling(window=self.window_size, min_periods=1).max()\n",
        "                rolling_min = col_data.rolling(window=self.window_size, min_periods=1).min()\n",
        "                X_transformed[col] = X_transformed[col].combine(rolling_max,min)\n",
        "                X_transformed[col] = X_transformed[col].combine(rolling_min,max)\n",
        "        else:\n",
        "            # Use global max and min values for test data\n",
        "            for col in X_transformed.columns:\n",
        "                X_transformed[col] = X_transformed[col].replace(np.inf, self.global_max_values_[col], inplace=False)\n",
        "                X_transformed[col] = X_transformed[col].replace(-np.inf, self.global_min_values_[col], inplace=False)\n",
        "        return X_transformed\n"
      ]
    },
    {
      "cell_type": "code",
      "execution_count": 27,
      "metadata": {},
      "outputs": [
        {
          "name": "stdout",
          "output_type": "stream",
          "text": [
            "Batch X size: torch.Size([64, 1, 54])\n",
            "Batch Y size: torch.Size([64])\n",
            "Batch X size: torch.Size([64, 1, 54])\n",
            "Batch Y size: torch.Size([64])\n",
            "Batch X size: torch.Size([64, 1, 54])\n",
            "Batch Y size: torch.Size([64])\n"
          ]
        }
      ],
      "source": [
        "X_train = X_train.dropna()\n",
        "y_train = y_train[X_train.index]\n",
        "X_test = X_test.dropna()\n",
        "y_test = y_test[X_test.index]\n",
        "\n",
        "inf_imputer = InfToMinMaxTransformer()\n",
        "inf_imputer.fit(X_train)\n",
        "X_train_imputed = inf_imputer.transform(X_train,is_train_data=True)\n",
        "X_test_imputed = inf_imputer.transform(X_test,is_train_data=False)\n",
        "\n",
        "# normalize the features\n",
        "from sklearn.preprocessing import StandardScaler\n",
        "scaler = StandardScaler()\n",
        "X_train_scaled = scaler.fit_transform(X_train_imputed)\n",
        "X_test_scaled = scaler.transform(X_test_imputed)\n",
        "\n",
        "# data preprocessing\n",
        "class TimeSeriesDataset(Dataset):\n",
        "    def __init__(self, X, y):\n",
        "        self.X = torch.tensor(X, dtype=torch.float32)\n",
        "        self.y = torch.tensor(y.values, dtype=torch.float32)\n",
        "    \n",
        "    def __len__(self):\n",
        "        return len(self.X)\n",
        "    \n",
        "    def __getitem__(self, idx):\n",
        "        sample_x, sample_y = self.X[idx], self.y[idx]\n",
        "        sample_x = sample_x.unsqueeze(0)  # adjust the dimension to (1, the number of features)\n",
        "        return sample_x, sample_y\n",
        "\n",
        "# create dataloader for train set and test set\n",
        "batch_size = 64\n",
        "train_dataset = TimeSeriesDataset(X_train_scaled, y_train)\n",
        "test_dataset = TimeSeriesDataset(X_test_scaled, y_test)\n",
        "\n",
        "train_loader = DataLoader(train_dataset, batch_size=batch_size, shuffle=False)\n",
        "test_loader = DataLoader(test_dataset, batch_size=batch_size, shuffle=False)\n",
        "\n",
        "# test the dataloader\n",
        "ss = 0\n",
        "for data, target in train_loader:\n",
        "    print(\"Batch X size:\", data.shape)\n",
        "    print(\"Batch Y size:\", target.shape)\n",
        "    ss = ss+1\n",
        "    if ss>=3:\n",
        "        break"
      ]
    },
    {
      "cell_type": "code",
      "execution_count": 28,
      "metadata": {},
      "outputs": [
        {
          "data": {
            "text/plain": [
              "(7169, 54)"
            ]
          },
          "execution_count": 28,
          "metadata": {},
          "output_type": "execute_result"
        }
      ],
      "source": [
        "X_train_scaled.shape"
      ]
    },
    {
      "cell_type": "code",
      "execution_count": 29,
      "metadata": {},
      "outputs": [
        {
          "data": {
            "text/plain": [
              "54"
            ]
          },
          "execution_count": 29,
          "metadata": {},
          "output_type": "execute_result"
        }
      ],
      "source": [
        "train_dataset.__getitem__(0)[0].shape[1]"
      ]
    },
    {
      "cell_type": "code",
      "execution_count": 30,
      "metadata": {},
      "outputs": [
        {
          "data": {
            "text/plain": [
              "device(type='cpu')"
            ]
          },
          "execution_count": 30,
          "metadata": {},
          "output_type": "execute_result"
        }
      ],
      "source": [
        "train_dataset.__getitem__(0)[0].device"
      ]
    },
    {
      "cell_type": "markdown",
      "metadata": {},
      "source": [
        "build LSTM nn model"
      ]
    },
    {
      "cell_type": "code",
      "execution_count": 31,
      "metadata": {},
      "outputs": [],
      "source": [
        "class LSTMModel(nn.Module):\n",
        "    def __init__(self, input_dim, hidden_dim, layer_dim, output_dim):\n",
        "        super(LSTMModel, self).__init__()\n",
        "        self.hidden_dim = hidden_dim\n",
        "        self.layer_dim = layer_dim\n",
        "        self.lstm = nn.LSTM(input_dim, hidden_dim, layer_dim, batch_first=True)\n",
        "        self.fc = nn.Linear(hidden_dim, output_dim)\n",
        "\n",
        "    def forward(self, x):\n",
        "        # initialize h0 and c0\n",
        "        h0 = torch.zeros(self.layer_dim, x.size(0), self.hidden_dim).to(x.device)\n",
        "        c0 = torch.zeros(self.layer_dim, x.size(0), self.hidden_dim).to(x.device)\n",
        "        # forward pass\n",
        "        out, (hn, cn) = self.lstm(x, (h0, c0))\n",
        "        out = self.fc(out[:, -1, :])  # only take the last output\n",
        "        return torch.sigmoid(out)  # use sigmoid fuction to make binary classification"
      ]
    },
    {
      "cell_type": "markdown",
      "metadata": {},
      "source": [
        "Hyperparameter tunning"
      ]
    },
    {
      "cell_type": "code",
      "execution_count": 32,
      "metadata": {},
      "outputs": [],
      "source": [
        "# 1. split the train set and validation set in hyperparameter tuning\n",
        "val_ratio = 0.2\n",
        "# train set in hyperparameter tuning\n",
        "tuning_X_train_scaled = X_train_scaled[:int(len(X_train_scaled)*(1-val_ratio))]\n",
        "tuning_y_train = y_train[:int(len(X_train_scaled)*(1-val_ratio))]\n",
        "# test set in hyperparameter tuning\n",
        "tuning_X_val_scaled = X_train_scaled[int(len(X_train_scaled)*(1-val_ratio)):]\n",
        "tuning_y_val = y_train[int(len(X_train_scaled)*(1-val_ratio)):]\n",
        "\n",
        "# 2. create dataloader for train set and validation set\n",
        "batch_size = 64\n",
        "tuning_train_dataset = TimeSeriesDataset(tuning_X_train_scaled, tuning_y_train)\n",
        "tuning_val_dataset = TimeSeriesDataset(tuning_X_val_scaled, tuning_y_val)\n",
        "tuning_train_loader = DataLoader(tuning_train_dataset, batch_size=batch_size, shuffle=False)\n",
        "tuning_val_loader = DataLoader(tuning_val_dataset, batch_size=batch_size, shuffle=False)"
      ]
    },
    {
      "cell_type": "code",
      "execution_count": 33,
      "metadata": {},
      "outputs": [],
      "source": [
        "from sklearn.metrics import roc_curve, auc\n",
        "\n",
        "# evaluate the model\n",
        "def evaluate_model(model, test_loader, criterion, ROC_curve_graph=False):\n",
        "    model.eval()\n",
        "    total_loss = 0\n",
        "    correct = 0\n",
        "    total = 0\n",
        "\n",
        "    all_labels = []\n",
        "    all_predictions = []\n",
        "\n",
        "    with torch.no_grad():\n",
        "        for inputs, labels in test_loader:\n",
        "            inputs, labels = inputs.to(device), labels.to(device)\n",
        "\n",
        "            outputs = model(inputs)\n",
        "            loss = criterion(outputs, labels.view(-1, 1))\n",
        "            total_loss += loss.item()\n",
        "\n",
        "            predicted = outputs.round()\n",
        "            total += labels.size(0)  # the number of observations\n",
        "            correct += (predicted == labels.view(-1, 1)).sum().item()\n",
        "\n",
        "            # Save predictions and labels for ROC and AUC calculations.\n",
        "            all_labels.extend(labels.view(-1).cpu().numpy())\n",
        "            all_predictions.extend(outputs.view(-1).cpu().numpy())\n",
        "\n",
        "    # Calculate the loss and accuracy\n",
        "    test_loss = total_loss/len(test_loader)\n",
        "    accuracy = 100 * correct / total\n",
        "    print(f'Test Loss: {total_loss/len(test_loader)}, Accuracy: {accuracy}%')\n",
        "\n",
        "    # Calculate ROC and AUC\n",
        "    fpr, tpr, thresholds = roc_curve(all_labels, all_predictions)\n",
        "    roc_auc = auc(fpr, tpr)\n",
        "    print(f'ROC AUC: {roc_auc}')\n",
        "\n",
        "    # Draw the ROC Curve\n",
        "    if ROC_curve_graph:\n",
        "        plt.figure()\n",
        "        plt.plot([0, 1], [0, 1], lw=2, linestyle='--')\n",
        "        plt.plot(fpr, tpr, lw=2, label='ROC curve (area = %0.2f)' % roc_auc)\n",
        "        plt.xlim([0.0, 1.0])\n",
        "        plt.ylim([0.0, 1.0])\n",
        "        plt.xlabel('False Positive Rate')\n",
        "        plt.ylabel('True Positive Rate')\n",
        "        plt.title('ROC')\n",
        "        plt.legend(loc=\"lower right\")\n",
        "        plt.show()\n",
        "\n",
        "    return accuracy, roc_auc, test_loss"
      ]
    },
    {
      "cell_type": "code",
      "execution_count": 34,
      "metadata": {},
      "outputs": [
        {
          "name": "stdout",
          "output_type": "stream",
          "text": [
            "LSTMModel(\n",
            "  (lstm): LSTM(54, 30, num_layers=2, batch_first=True)\n",
            "  (fc): Linear(in_features=30, out_features=1, bias=True)\n",
            ")\n",
            "Epoch 10/20, Loss: 0.5278022869498329\n",
            "Epoch 20/20, Loss: 0.47506180458364233\n",
            "Test Loss: 0.8364165269810221, Accuracy: 50.69735006973501%\n",
            "ROC AUC: 0.506127400864243\n",
            "LSTMModel(\n",
            "  (lstm): LSTM(54, 50, num_layers=2, batch_first=True)\n",
            "  (fc): Linear(in_features=50, out_features=1, bias=True)\n",
            ")\n",
            "Epoch 10/20, Loss: 0.5258655854031048\n",
            "Epoch 20/20, Loss: 0.47800295885685273\n",
            "Test Loss: 0.8125004561051078, Accuracy: 51.324965132496516%\n",
            "ROC AUC: 0.5185983607036239\n",
            "LSTMModel(\n",
            "  (lstm): LSTM(54, 100, num_layers=2, batch_first=True)\n",
            "  (fc): Linear(in_features=100, out_features=1, bias=True)\n",
            ")\n",
            "Epoch 10/20, Loss: 0.5398588802962176\n",
            "Epoch 20/20, Loss: 0.4892499373022434\n",
            "Test Loss: 0.7245463702989661, Accuracy: 51.11576011157601%\n",
            "ROC AUC: 0.5083824557508768\n"
          ]
        }
      ],
      "source": [
        "input_dim = train_dataset.__getitem__(0)[0].shape[1]  # the number of features\n",
        "tuning_space = [\n",
        "    {'input_dim':input_dim,'hidden_dim':30,'layer_dim':2,'output_dim':1},\n",
        "    {'input_dim':input_dim,'hidden_dim':50,'layer_dim':2,'output_dim':1},\n",
        "    {'input_dim':input_dim,'hidden_dim':100,'layer_dim':2,'output_dim':1}\n",
        "]\n",
        "best_loss = np.inf\n",
        "best_params = None\n",
        "for i,tuning_params in enumerate(tuning_space):\n",
        "    # 1. initialize the LSTM model\n",
        "    tuning_model = LSTMModel(**tuning_params).to(device)\n",
        "    print(tuning_model)\n",
        "    tuning_criterion = nn.BCELoss()  # the loss function of the binary classification\n",
        "    tuning_optimizer = optim.Adam(tuning_model.parameters(), lr=0.01)\n",
        "    # 2. train the LSTM model\n",
        "    tuning_model.train()\n",
        "    num_epochs = 20\n",
        "    for epoch in range(num_epochs):\n",
        "        total_loss = 0\n",
        "        for inputs,labels in tuning_train_loader:\n",
        "            # move to GPU\n",
        "            inputs, labels = inputs.to(device), labels.to(device)\n",
        "            tuning_optimizer.zero_grad()\n",
        "            outputs = tuning_model(inputs)\n",
        "            loss = tuning_criterion(outputs, labels.view(-1, 1))\n",
        "            loss.backward()\n",
        "            tuning_optimizer.step()\n",
        "            total_loss += loss.item()\n",
        "        if (epoch+1)%10 == 0:\n",
        "            print(f'Epoch {epoch+1}/{num_epochs}, Loss: {total_loss/len(train_loader)}')\n",
        "    # 3. calculate the accuracy on the validation set\n",
        "    accuracy, roc_auc, val_loss = evaluate_model(tuning_model, tuning_val_loader, tuning_criterion)\n",
        "    if val_loss < best_loss:\n",
        "        best_params = tuning_params"
      ]
    },
    {
      "cell_type": "code",
      "execution_count": 35,
      "metadata": {},
      "outputs": [
        {
          "data": {
            "text/plain": [
              "{'input_dim': 54, 'hidden_dim': 100, 'layer_dim': 2, 'output_dim': 1}"
            ]
          },
          "execution_count": 35,
          "metadata": {},
          "output_type": "execute_result"
        }
      ],
      "source": [
        "best_params"
      ]
    },
    {
      "cell_type": "markdown",
      "metadata": {},
      "source": [
        "Initialize the optimized model, loss fuction and optimizer"
      ]
    },
    {
      "cell_type": "code",
      "execution_count": 36,
      "metadata": {},
      "outputs": [],
      "source": [
        "# input_dim = train_dataset.__getitem__(0)[0].shape[1]  # the number of features\n",
        "# hidden_dim = 100  # the dimention of hidden layers\n",
        "# layer_dim = 2    # the number of LSTM layers\n",
        "# output_dim = 1   # the dimention of out put\n",
        "# model = LSTMModel(input_dim, hidden_dim, layer_dim, output_dim).to(device)\n",
        "\n",
        "my_params = best_params\n",
        "model = LSTMModel(**my_params).to(device)\n",
        "\n",
        "criterion = nn.BCELoss()  # the loss function of the binary classification\n",
        "optimizer = optim.Adam(model.parameters(), lr=0.01)"
      ]
    },
    {
      "cell_type": "markdown",
      "metadata": {},
      "source": [
        "Model Training"
      ]
    },
    {
      "cell_type": "markdown",
      "metadata": {},
      "source": [
        "feed the best model with test set and validation set"
      ]
    },
    {
      "cell_type": "code",
      "execution_count": 37,
      "metadata": {},
      "outputs": [
        {
          "name": "stdout",
          "output_type": "stream",
          "text": [
            "Epoch 1/20, Loss: 0.6934487292196898\n",
            "Epoch 2/20, Loss: 0.6932941527493233\n",
            "Epoch 3/20, Loss: 0.6920819498796379\n",
            "Epoch 4/20, Loss: 0.6905097903403561\n",
            "Epoch 5/20, Loss: 0.6874956209047706\n",
            "Epoch 6/20, Loss: 0.6814531108974355\n",
            "Epoch 7/20, Loss: 0.6806348926198166\n",
            "Epoch 8/20, Loss: 0.6744321347337908\n",
            "Epoch 9/20, Loss: 0.672190408791061\n",
            "Epoch 10/20, Loss: 0.6680277374993383\n",
            "Epoch 11/20, Loss: 0.6720990797059726\n",
            "Epoch 12/20, Loss: 0.6676397307784157\n",
            "Epoch 13/20, Loss: 0.6493223441385589\n",
            "Epoch 14/20, Loss: 0.6551038192964234\n",
            "Epoch 15/20, Loss: 0.648203253218558\n",
            "Epoch 16/20, Loss: 0.6350193076429114\n",
            "Epoch 17/20, Loss: 0.618861786032145\n",
            "Epoch 18/20, Loss: 0.6166379214388079\n",
            "Epoch 19/20, Loss: 0.6251800453240892\n",
            "Epoch 20/20, Loss: 0.6123621603556438\n"
          ]
        }
      ],
      "source": [
        "def train_model(model, train_loader, criterion, optimizer, num_epochs):\n",
        "    model.train()\n",
        "    for epoch in range(num_epochs):\n",
        "        total_loss = 0\n",
        "        for inputs, labels in train_loader:\n",
        "            # Move to GPU\n",
        "            inputs, labels = inputs.to(device), labels.to(device)\n",
        "\n",
        "            optimizer.zero_grad()\n",
        "            outputs = model(inputs)\n",
        "            loss = criterion(outputs, labels.view(-1, 1))\n",
        "            loss.backward()\n",
        "            optimizer.step()\n",
        "            total_loss += loss.item()\n",
        "        print(f'Epoch {epoch+1}/{num_epochs}, Loss: {total_loss/len(train_loader)}')\n",
        "\n",
        "num_epochs = 20\n",
        "train_model(model, train_loader, criterion, optimizer, num_epochs)"
      ]
    },
    {
      "cell_type": "markdown",
      "metadata": {},
      "source": [
        "Model Testing"
      ]
    },
    {
      "cell_type": "code",
      "execution_count": 38,
      "metadata": {},
      "outputs": [
        {
          "name": "stdout",
          "output_type": "stream",
          "text": [
            "Test Loss: 0.782392144203186, Accuracy: 53.92156862745098%\n",
            "ROC AUC: 0.5102514506769826\n"
          ]
        },
        {
          "data": {
            "image/png": "[encoded data removed]",
            "text/plain": [
              "<Figure size 640x480 with 1 Axes>"
            ]
          },
          "metadata": {},
          "output_type": "display_data"
        }
      ],
      "source": [
        "accuracy, roc_auc, test_loss = evaluate_model(model, test_loader, criterion, ROC_curve_graph=True)"
      ]
    }
  ],
  "metadata": {
    "colab": {
      "provenance": []
    },
    "kernelspec": {
      "display_name": "Python 3",
      "name": "python3"
    },
    "language_info": {
      "codemirror_mode": {
        "name": "ipython",
        "version": 3
      },
      "file_extension": ".py",
      "mimetype": "text/x-python",
      "name": "python",
      "nbconvert_exporter": "python",
      "pygments_lexer": "ipython3",
      "version": "3.10.13"
    }
  },
  "nbformat": 4,
  "nbformat_minor": 0
}
